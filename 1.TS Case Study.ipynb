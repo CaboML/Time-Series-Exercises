{
 "cells": [
  {
   "cell_type": "markdown",
   "metadata": {},
   "source": [
    "# Section 1"
   ]
  },
  {
   "cell_type": "markdown",
   "metadata": {},
   "source": [
    "## 1) The first thing we need to do is understand the company profiles we are dealing with:"
   ]
  },
  {
   "cell_type": "markdown",
   "metadata": {},
   "source": [
    "### a)\tHow many Companies were incorporated in each year?!"
   ]
  },
  {
   "cell_type": "code",
   "execution_count": 19,
   "metadata": {},
   "outputs": [],
   "source": [
    "%matplotlib inline\n",
    "import pandas as pd"
   ]
  },
  {
   "cell_type": "code",
   "execution_count": 2,
   "metadata": {},
   "outputs": [],
   "source": [
    "df1 = pd.read_csv('test_Sample.csv')"
   ]
  },
  {
   "cell_type": "code",
   "execution_count": 3,
   "metadata": {},
   "outputs": [
    {
     "data": {
      "text/html": [
       "<div>\n",
       "<style scoped>\n",
       "    .dataframe tbody tr th:only-of-type {\n",
       "        vertical-align: middle;\n",
       "    }\n",
       "\n",
       "    .dataframe tbody tr th {\n",
       "        vertical-align: top;\n",
       "    }\n",
       "\n",
       "    .dataframe thead th {\n",
       "        text-align: right;\n",
       "    }\n",
       "</style>\n",
       "<table border=\"1\" class=\"dataframe\">\n",
       "  <thead>\n",
       "    <tr style=\"text-align: right;\">\n",
       "      <th></th>\n",
       "      <th>REG</th>\n",
       "      <th>NAME</th>\n",
       "      <th>INC</th>\n",
       "      <th>SIC07</th>\n",
       "      <th>SIC03</th>\n",
       "      <th>LIQ</th>\n",
       "      <th>ARD</th>\n",
       "      <th>ACCFIL</th>\n",
       "      <th>ACCLAT</th>\n",
       "      <th>ACCDUE</th>\n",
       "    </tr>\n",
       "  </thead>\n",
       "  <tbody>\n",
       "    <tr>\n",
       "      <th>0</th>\n",
       "      <td>5195331</td>\n",
       "      <td>PEAK BOX DESIGNS LIMITED</td>\n",
       "      <td>02/08/2004</td>\n",
       "      <td>23990.0</td>\n",
       "      <td>2682.0</td>\n",
       "      <td>L</td>\n",
       "      <td>02/08/2005</td>\n",
       "      <td>09/11/2006</td>\n",
       "      <td>30/09/2005</td>\n",
       "      <td>30/06/2007</td>\n",
       "    </tr>\n",
       "    <tr>\n",
       "      <th>1</th>\n",
       "      <td>8863855</td>\n",
       "      <td>PEARSE CALLAGHAN LIMITED</td>\n",
       "      <td>28/01/2014</td>\n",
       "      <td>70229.0</td>\n",
       "      <td>7414.0</td>\n",
       "      <td>NaN</td>\n",
       "      <td>28/01/2018</td>\n",
       "      <td>27/11/2017</td>\n",
       "      <td>31/01/2017</td>\n",
       "      <td>31/10/2018</td>\n",
       "    </tr>\n",
       "    <tr>\n",
       "      <th>2</th>\n",
       "      <td>3891648</td>\n",
       "      <td>ALUN DAVIES LIMITED</td>\n",
       "      <td>09/12/1999</td>\n",
       "      <td>41100.0</td>\n",
       "      <td>7011.0</td>\n",
       "      <td>NaN</td>\n",
       "      <td>09/12/2017</td>\n",
       "      <td>01/09/2017</td>\n",
       "      <td>31/03/2017</td>\n",
       "      <td>31/12/2018</td>\n",
       "    </tr>\n",
       "    <tr>\n",
       "      <th>3</th>\n",
       "      <td>6746666</td>\n",
       "      <td>SCOT-TEC OIL SERVICES LTD</td>\n",
       "      <td>11/11/2008</td>\n",
       "      <td>96090.0</td>\n",
       "      <td>9305.0</td>\n",
       "      <td>NaN</td>\n",
       "      <td>11/11/2017</td>\n",
       "      <td>31/08/2017</td>\n",
       "      <td>30/11/2016</td>\n",
       "      <td>31/08/2018</td>\n",
       "    </tr>\n",
       "    <tr>\n",
       "      <th>4</th>\n",
       "      <td>NI067951</td>\n",
       "      <td>AVOCA CLOSE PROPERTY MANAGEMENT CO LTD</td>\n",
       "      <td>04/02/2008</td>\n",
       "      <td>70229.0</td>\n",
       "      <td>7414.0</td>\n",
       "      <td>NaN</td>\n",
       "      <td>04/02/2018</td>\n",
       "      <td>30/08/2017</td>\n",
       "      <td>28/02/2017</td>\n",
       "      <td>30/11/2018</td>\n",
       "    </tr>\n",
       "  </tbody>\n",
       "</table>\n",
       "</div>"
      ],
      "text/plain": [
       "        REG                                    NAME         INC    SIC07  \\\n",
       "0   5195331                PEAK BOX DESIGNS LIMITED  02/08/2004  23990.0   \n",
       "1   8863855                PEARSE CALLAGHAN LIMITED  28/01/2014  70229.0   \n",
       "2   3891648                     ALUN DAVIES LIMITED  09/12/1999  41100.0   \n",
       "3   6746666               SCOT-TEC OIL SERVICES LTD  11/11/2008  96090.0   \n",
       "4  NI067951  AVOCA CLOSE PROPERTY MANAGEMENT CO LTD  04/02/2008  70229.0   \n",
       "\n",
       "    SIC03  LIQ         ARD      ACCFIL      ACCLAT      ACCDUE  \n",
       "0  2682.0    L  02/08/2005  09/11/2006  30/09/2005  30/06/2007  \n",
       "1  7414.0  NaN  28/01/2018  27/11/2017  31/01/2017  31/10/2018  \n",
       "2  7011.0  NaN  09/12/2017  01/09/2017  31/03/2017  31/12/2018  \n",
       "3  9305.0  NaN  11/11/2017  31/08/2017  30/11/2016  31/08/2018  \n",
       "4  7414.0  NaN  04/02/2018  30/08/2017  28/02/2017  30/11/2018  "
      ]
     },
     "execution_count": 3,
     "metadata": {},
     "output_type": "execute_result"
    }
   ],
   "source": [
    "df1.head()\n"
   ]
  },
  {
   "cell_type": "markdown",
   "metadata": {},
   "source": [
    "Considering that each REG is a different company. Next step is to creat a new column with the 'INC years only"
   ]
  },
  {
   "cell_type": "code",
   "execution_count": 4,
   "metadata": {},
   "outputs": [
    {
     "data": {
      "text/plain": [
       "year\n",
       "1962     1\n",
       "1972     1\n",
       "1973     1\n",
       "1978     1\n",
       "1984     2\n",
       "1986     1\n",
       "1989     1\n",
       "1990     1\n",
       "1991     1\n",
       "1997     1\n",
       "1998     3\n",
       "1999     2\n",
       "2000     2\n",
       "2001     1\n",
       "2002     1\n",
       "2003     2\n",
       "2004     2\n",
       "2005     5\n",
       "2006     3\n",
       "2007     1\n",
       "2008     6\n",
       "2009     8\n",
       "2010     2\n",
       "2011     6\n",
       "2012     5\n",
       "2013     7\n",
       "2014    16\n",
       "2015     7\n",
       "2016    10\n",
       "Name: REG, dtype: int64"
      ]
     },
     "execution_count": 4,
     "metadata": {},
     "output_type": "execute_result"
    }
   ],
   "source": [
    "df1['year'] = pd.DatetimeIndex(df1['INC']).year\n",
    "years = df1.groupby(['year'])['REG'].count()\n",
    "years"
   ]
  },
  {
   "cell_type": "code",
   "execution_count": 5,
   "metadata": {},
   "outputs": [
    {
     "data": {
      "text/html": [
       "<div>\n",
       "<style scoped>\n",
       "    .dataframe tbody tr th:only-of-type {\n",
       "        vertical-align: middle;\n",
       "    }\n",
       "\n",
       "    .dataframe tbody tr th {\n",
       "        vertical-align: top;\n",
       "    }\n",
       "\n",
       "    .dataframe thead th {\n",
       "        text-align: right;\n",
       "    }\n",
       "</style>\n",
       "<table border=\"1\" class=\"dataframe\">\n",
       "  <thead>\n",
       "    <tr style=\"text-align: right;\">\n",
       "      <th></th>\n",
       "      <th>REG</th>\n",
       "      <th>NAME</th>\n",
       "      <th>INC</th>\n",
       "      <th>SIC07</th>\n",
       "      <th>SIC03</th>\n",
       "      <th>LIQ</th>\n",
       "      <th>ARD</th>\n",
       "      <th>ACCFIL</th>\n",
       "      <th>ACCLAT</th>\n",
       "      <th>ACCDUE</th>\n",
       "      <th>year</th>\n",
       "    </tr>\n",
       "  </thead>\n",
       "  <tbody>\n",
       "    <tr>\n",
       "      <th>0</th>\n",
       "      <td>5195331</td>\n",
       "      <td>PEAK BOX DESIGNS LIMITED</td>\n",
       "      <td>02/08/2004</td>\n",
       "      <td>23990.0</td>\n",
       "      <td>2682.0</td>\n",
       "      <td>L</td>\n",
       "      <td>02/08/2005</td>\n",
       "      <td>09/11/2006</td>\n",
       "      <td>30/09/2005</td>\n",
       "      <td>30/06/2007</td>\n",
       "      <td>2004</td>\n",
       "    </tr>\n",
       "    <tr>\n",
       "      <th>1</th>\n",
       "      <td>8863855</td>\n",
       "      <td>PEARSE CALLAGHAN LIMITED</td>\n",
       "      <td>28/01/2014</td>\n",
       "      <td>70229.0</td>\n",
       "      <td>7414.0</td>\n",
       "      <td>NaN</td>\n",
       "      <td>28/01/2018</td>\n",
       "      <td>27/11/2017</td>\n",
       "      <td>31/01/2017</td>\n",
       "      <td>31/10/2018</td>\n",
       "      <td>2014</td>\n",
       "    </tr>\n",
       "    <tr>\n",
       "      <th>2</th>\n",
       "      <td>3891648</td>\n",
       "      <td>ALUN DAVIES LIMITED</td>\n",
       "      <td>09/12/1999</td>\n",
       "      <td>41100.0</td>\n",
       "      <td>7011.0</td>\n",
       "      <td>NaN</td>\n",
       "      <td>09/12/2017</td>\n",
       "      <td>01/09/2017</td>\n",
       "      <td>31/03/2017</td>\n",
       "      <td>31/12/2018</td>\n",
       "      <td>1999</td>\n",
       "    </tr>\n",
       "    <tr>\n",
       "      <th>3</th>\n",
       "      <td>6746666</td>\n",
       "      <td>SCOT-TEC OIL SERVICES LTD</td>\n",
       "      <td>11/11/2008</td>\n",
       "      <td>96090.0</td>\n",
       "      <td>9305.0</td>\n",
       "      <td>NaN</td>\n",
       "      <td>11/11/2017</td>\n",
       "      <td>31/08/2017</td>\n",
       "      <td>30/11/2016</td>\n",
       "      <td>31/08/2018</td>\n",
       "      <td>2008</td>\n",
       "    </tr>\n",
       "    <tr>\n",
       "      <th>4</th>\n",
       "      <td>NI067951</td>\n",
       "      <td>AVOCA CLOSE PROPERTY MANAGEMENT CO LTD</td>\n",
       "      <td>04/02/2008</td>\n",
       "      <td>70229.0</td>\n",
       "      <td>7414.0</td>\n",
       "      <td>NaN</td>\n",
       "      <td>04/02/2018</td>\n",
       "      <td>30/08/2017</td>\n",
       "      <td>28/02/2017</td>\n",
       "      <td>30/11/2018</td>\n",
       "      <td>2008</td>\n",
       "    </tr>\n",
       "  </tbody>\n",
       "</table>\n",
       "</div>"
      ],
      "text/plain": [
       "        REG                                    NAME         INC    SIC07  \\\n",
       "0   5195331                PEAK BOX DESIGNS LIMITED  02/08/2004  23990.0   \n",
       "1   8863855                PEARSE CALLAGHAN LIMITED  28/01/2014  70229.0   \n",
       "2   3891648                     ALUN DAVIES LIMITED  09/12/1999  41100.0   \n",
       "3   6746666               SCOT-TEC OIL SERVICES LTD  11/11/2008  96090.0   \n",
       "4  NI067951  AVOCA CLOSE PROPERTY MANAGEMENT CO LTD  04/02/2008  70229.0   \n",
       "\n",
       "    SIC03  LIQ         ARD      ACCFIL      ACCLAT      ACCDUE  year  \n",
       "0  2682.0    L  02/08/2005  09/11/2006  30/09/2005  30/06/2007  2004  \n",
       "1  7414.0  NaN  28/01/2018  27/11/2017  31/01/2017  31/10/2018  2014  \n",
       "2  7011.0  NaN  09/12/2017  01/09/2017  31/03/2017  31/12/2018  1999  \n",
       "3  9305.0  NaN  11/11/2017  31/08/2017  30/11/2016  31/08/2018  2008  \n",
       "4  7414.0  NaN  04/02/2018  30/08/2017  28/02/2017  30/11/2018  2008  "
      ]
     },
     "execution_count": 5,
     "metadata": {},
     "output_type": "execute_result"
    }
   ],
   "source": [
    "df1.head()"
   ]
  },
  {
   "cell_type": "code",
   "execution_count": 6,
   "metadata": {},
   "outputs": [
    {
     "data": {
      "text/plain": [
       "<Figure size 640x480 with 1 Axes>"
      ]
     },
     "metadata": {},
     "output_type": "display_data"
    }
   ],
   "source": [
    "import matplotlib.pyplot as plt\n",
    "plt.plot(years)\n",
    "plt.show()"
   ]
  },
  {
   "cell_type": "markdown",
   "metadata": {},
   "source": [
    "### b) Comments about the finding\n"
   ]
  },
  {
   "cell_type": "markdown",
   "metadata": {},
   "source": [
    "The number of companies incorporated has been exponentially increasing in the last years\n"
   ]
  },
  {
   "cell_type": "markdown",
   "metadata": {},
   "source": [
    "## 2) It looks like some of the companies are in distress:"
   ]
  },
  {
   "cell_type": "markdown",
   "metadata": {},
   "source": [
    "### a)\tHow many companies are in Liquidation? "
   ]
  },
  {
   "cell_type": "code",
   "execution_count": 7,
   "metadata": {},
   "outputs": [
    {
     "data": {
      "text/plain": [
       "8"
      ]
     },
     "execution_count": 7,
     "metadata": {},
     "output_type": "execute_result"
    }
   ],
   "source": [
    "df1['LIQ'].count()\n"
   ]
  },
  {
   "cell_type": "markdown",
   "metadata": {},
   "source": [
    "8 companies are on Liquidation processes\n"
   ]
  },
  {
   "cell_type": "markdown",
   "metadata": {},
   "source": [
    "### b)\tWhat is the average age of the companies in Liquidation? "
   ]
  },
  {
   "cell_type": "code",
   "execution_count": 8,
   "metadata": {},
   "outputs": [
    {
     "data": {
      "text/plain": [
       "year       2003.875\n",
       "LIQ_Age      14.125\n",
       "dtype: float64"
      ]
     },
     "execution_count": 8,
     "metadata": {},
     "output_type": "execute_result"
    }
   ],
   "source": [
    "import datetime\n",
    "now = datetime.datetime.now()\n",
    "df1[['year','LIQ']]\n",
    "df1['LIQ_Age'] = now.year - df1['year']\n",
    "aux = df1[['year','LIQ_Age','LIQ']]\n",
    "aux = aux.dropna()\n",
    "aux.mean()"
   ]
  },
  {
   "cell_type": "markdown",
   "metadata": {},
   "source": [
    "The average age of Liquidation is 14 years\n"
   ]
  },
  {
   "cell_type": "markdown",
   "metadata": {},
   "source": [
    "##  3)\tUsing the SIC03 code, we can determine what industry each company is active in, for aggregation purposes, we are only interested in the first 2 digits of the code i.e. 2683 should be truncated to 26.!"
   ]
  },
  {
   "cell_type": "markdown",
   "metadata": {},
   "source": [
    "### a)\tCreate a Distribution plot of the truncated SIC03 code !"
   ]
  },
  {
   "cell_type": "code",
   "execution_count": 9,
   "metadata": {},
   "outputs": [
    {
     "data": {
      "image/png": "[encoded data removed]",
      "text/plain": [
       "<Figure size 432x288 with 1 Axes>"
      ]
     },
     "metadata": {},
     "output_type": "display_data"
    }
   ],
   "source": [
    "\n",
    "trunc = lambda x: int(str(x)[:2])\n",
    "aux2 = df1.dropna(subset=['SIC03'])\n",
    "aux2 = aux2['SIC03'].map(trunc)\n",
    "aux2.value_counts().plot(kind= \"bar\")\n",
    "plt.show()\n"
   ]
  },
  {
   "cell_type": "markdown",
   "metadata": {},
   "source": [
    "# Section 2"
   ]
  },
  {
   "cell_type": "markdown",
   "metadata": {},
   "source": [
    "## 1)\tIdentify the latest credit score for each company, by selecting the Credit rating for each company where the Order is 1 (which is the latest date), then output overview information about the rating, i.e count, mean, std, min, 25%, 50%, 75%, max!"
   ]
  },
  {
   "cell_type": "code",
   "execution_count": 10,
   "metadata": {},
   "outputs": [
    {
     "data": {
      "text/html": [
       "<div>\n",
       "<style scoped>\n",
       "    .dataframe tbody tr th:only-of-type {\n",
       "        vertical-align: middle;\n",
       "    }\n",
       "\n",
       "    .dataframe tbody tr th {\n",
       "        vertical-align: top;\n",
       "    }\n",
       "\n",
       "    .dataframe thead th {\n",
       "        text-align: right;\n",
       "    }\n",
       "</style>\n",
       "<table border=\"1\" class=\"dataframe\">\n",
       "  <thead>\n",
       "    <tr style=\"text-align: right;\">\n",
       "      <th></th>\n",
       "      <th>REG</th>\n",
       "      <th>RATING</th>\n",
       "      <th>DATE</th>\n",
       "      <th>ORDER</th>\n",
       "    </tr>\n",
       "  </thead>\n",
       "  <tbody>\n",
       "    <tr>\n",
       "      <th>0</th>\n",
       "      <td>729029</td>\n",
       "      <td>89</td>\n",
       "      <td>09/12/2017</td>\n",
       "      <td>1</td>\n",
       "    </tr>\n",
       "    <tr>\n",
       "      <th>1</th>\n",
       "      <td>729029</td>\n",
       "      <td>90</td>\n",
       "      <td>03/10/2017</td>\n",
       "      <td>2</td>\n",
       "    </tr>\n",
       "    <tr>\n",
       "      <th>2</th>\n",
       "      <td>729029</td>\n",
       "      <td>87</td>\n",
       "      <td>16/12/2016</td>\n",
       "      <td>3</td>\n",
       "    </tr>\n",
       "    <tr>\n",
       "      <th>3</th>\n",
       "      <td>729029</td>\n",
       "      <td>87</td>\n",
       "      <td>11/03/2016</td>\n",
       "      <td>4</td>\n",
       "    </tr>\n",
       "    <tr>\n",
       "      <th>4</th>\n",
       "      <td>729029</td>\n",
       "      <td>73</td>\n",
       "      <td>03/07/2015</td>\n",
       "      <td>5</td>\n",
       "    </tr>\n",
       "  </tbody>\n",
       "</table>\n",
       "</div>"
      ],
      "text/plain": [
       "      REG  RATING        DATE  ORDER\n",
       "0  729029      89  09/12/2017      1\n",
       "1  729029      90  03/10/2017      2\n",
       "2  729029      87  16/12/2016      3\n",
       "3  729029      87  11/03/2016      4\n",
       "4  729029      73  03/07/2015      5"
      ]
     },
     "execution_count": 10,
     "metadata": {},
     "output_type": "execute_result"
    }
   ],
   "source": [
    "df2 = pd.read_csv('Sample_CR.csv')\n",
    "df2.head()"
   ]
  },
  {
   "cell_type": "code",
   "execution_count": 11,
   "metadata": {},
   "outputs": [
    {
     "name": "stdout",
     "output_type": "stream",
     "text": [
      "<class 'pandas.core.frame.DataFrame'>\n",
      "Int64Index: 100 entries, 0 to 1610\n",
      "Data columns (total 4 columns):\n",
      "REG       100 non-null object\n",
      "RATING    100 non-null int64\n",
      "DATE      100 non-null object\n",
      "ORDER     100 non-null int64\n",
      "dtypes: int64(2), object(2)\n",
      "memory usage: 3.9+ KB\n"
     ]
    },
    {
     "data": {
      "text/html": [
       "<div>\n",
       "<style scoped>\n",
       "    .dataframe tbody tr th:only-of-type {\n",
       "        vertical-align: middle;\n",
       "    }\n",
       "\n",
       "    .dataframe tbody tr th {\n",
       "        vertical-align: top;\n",
       "    }\n",
       "\n",
       "    .dataframe thead th {\n",
       "        text-align: right;\n",
       "    }\n",
       "</style>\n",
       "<table border=\"1\" class=\"dataframe\">\n",
       "  <thead>\n",
       "    <tr style=\"text-align: right;\">\n",
       "      <th></th>\n",
       "      <th>REG</th>\n",
       "      <th>RATING</th>\n",
       "      <th>DATE</th>\n",
       "      <th>ORDER</th>\n",
       "    </tr>\n",
       "  </thead>\n",
       "  <tbody>\n",
       "    <tr>\n",
       "      <th>0</th>\n",
       "      <td>729029</td>\n",
       "      <td>89</td>\n",
       "      <td>09/12/2017</td>\n",
       "      <td>1</td>\n",
       "    </tr>\n",
       "    <tr>\n",
       "      <th>29</th>\n",
       "      <td>1073098</td>\n",
       "      <td>59</td>\n",
       "      <td>27/09/2017</td>\n",
       "      <td>1</td>\n",
       "    </tr>\n",
       "    <tr>\n",
       "      <th>87</th>\n",
       "      <td>1113271</td>\n",
       "      <td>59</td>\n",
       "      <td>18/10/2017</td>\n",
       "      <td>1</td>\n",
       "    </tr>\n",
       "    <tr>\n",
       "      <th>108</th>\n",
       "      <td>1370343</td>\n",
       "      <td>-23</td>\n",
       "      <td>07/10/2015</td>\n",
       "      <td>1</td>\n",
       "    </tr>\n",
       "    <tr>\n",
       "      <th>148</th>\n",
       "      <td>1858007</td>\n",
       "      <td>49</td>\n",
       "      <td>29/12/2016</td>\n",
       "      <td>1</td>\n",
       "    </tr>\n",
       "    <tr>\n",
       "      <th>185</th>\n",
       "      <td>1870753</td>\n",
       "      <td>82</td>\n",
       "      <td>22/05/2017</td>\n",
       "      <td>1</td>\n",
       "    </tr>\n",
       "    <tr>\n",
       "      <th>201</th>\n",
       "      <td>2005811</td>\n",
       "      <td>80</td>\n",
       "      <td>02/08/2017</td>\n",
       "      <td>1</td>\n",
       "    </tr>\n",
       "    <tr>\n",
       "      <th>229</th>\n",
       "      <td>2505293</td>\n",
       "      <td>42</td>\n",
       "      <td>30/09/2017</td>\n",
       "      <td>1</td>\n",
       "    </tr>\n",
       "    <tr>\n",
       "      <th>263</th>\n",
       "      <td>2668478</td>\n",
       "      <td>96</td>\n",
       "      <td>27/09/2017</td>\n",
       "      <td>1</td>\n",
       "    </tr>\n",
       "    <tr>\n",
       "      <th>282</th>\n",
       "      <td>3301472</td>\n",
       "      <td>53</td>\n",
       "      <td>17/11/2017</td>\n",
       "      <td>1</td>\n",
       "    </tr>\n",
       "  </tbody>\n",
       "</table>\n",
       "</div>"
      ],
      "text/plain": [
       "         REG  RATING        DATE  ORDER\n",
       "0     729029      89  09/12/2017      1\n",
       "29   1073098      59  27/09/2017      1\n",
       "87   1113271      59  18/10/2017      1\n",
       "108  1370343     -23  07/10/2015      1\n",
       "148  1858007      49  29/12/2016      1\n",
       "185  1870753      82  22/05/2017      1\n",
       "201  2005811      80  02/08/2017      1\n",
       "229  2505293      42  30/09/2017      1\n",
       "263  2668478      96  27/09/2017      1\n",
       "282  3301472      53  17/11/2017      1"
      ]
     },
     "execution_count": 11,
     "metadata": {},
     "output_type": "execute_result"
    }
   ],
   "source": [
    "aux3 = df2.loc[df2['ORDER'] == 1]\n",
    "aux3.info()\n",
    "aux3.head(10)"
   ]
  },
  {
   "cell_type": "code",
   "execution_count": 12,
   "metadata": {},
   "outputs": [
    {
     "data": {
      "text/html": [
       "<div>\n",
       "<style scoped>\n",
       "    .dataframe tbody tr th:only-of-type {\n",
       "        vertical-align: middle;\n",
       "    }\n",
       "\n",
       "    .dataframe tbody tr th {\n",
       "        vertical-align: top;\n",
       "    }\n",
       "\n",
       "    .dataframe thead th {\n",
       "        text-align: right;\n",
       "    }\n",
       "</style>\n",
       "<table border=\"1\" class=\"dataframe\">\n",
       "  <thead>\n",
       "    <tr style=\"text-align: right;\">\n",
       "      <th></th>\n",
       "      <th>RATING</th>\n",
       "      <th>ORDER</th>\n",
       "    </tr>\n",
       "  </thead>\n",
       "  <tbody>\n",
       "    <tr>\n",
       "      <th>count</th>\n",
       "      <td>100.000000</td>\n",
       "      <td>100.0</td>\n",
       "    </tr>\n",
       "    <tr>\n",
       "      <th>mean</th>\n",
       "      <td>42.600000</td>\n",
       "      <td>1.0</td>\n",
       "    </tr>\n",
       "    <tr>\n",
       "      <th>std</th>\n",
       "      <td>41.636474</td>\n",
       "      <td>0.0</td>\n",
       "    </tr>\n",
       "    <tr>\n",
       "      <th>min</th>\n",
       "      <td>-34.000000</td>\n",
       "      <td>1.0</td>\n",
       "    </tr>\n",
       "    <tr>\n",
       "      <th>25%</th>\n",
       "      <td>18.750000</td>\n",
       "      <td>1.0</td>\n",
       "    </tr>\n",
       "    <tr>\n",
       "      <th>50%</th>\n",
       "      <td>53.500000</td>\n",
       "      <td>1.0</td>\n",
       "    </tr>\n",
       "    <tr>\n",
       "      <th>75%</th>\n",
       "      <td>75.000000</td>\n",
       "      <td>1.0</td>\n",
       "    </tr>\n",
       "    <tr>\n",
       "      <th>max</th>\n",
       "      <td>96.000000</td>\n",
       "      <td>1.0</td>\n",
       "    </tr>\n",
       "  </tbody>\n",
       "</table>\n",
       "</div>"
      ],
      "text/plain": [
       "           RATING  ORDER\n",
       "count  100.000000  100.0\n",
       "mean    42.600000    1.0\n",
       "std     41.636474    0.0\n",
       "min    -34.000000    1.0\n",
       "25%     18.750000    1.0\n",
       "50%     53.500000    1.0\n",
       "75%     75.000000    1.0\n",
       "max     96.000000    1.0"
      ]
     },
     "execution_count": 12,
     "metadata": {},
     "output_type": "execute_result"
    }
   ],
   "source": [
    "aux3.describe()"
   ]
  },
  {
   "cell_type": "markdown",
   "metadata": {},
   "source": [
    "## 2)\tIs there anything strange about any of the numbers?"
   ]
  },
  {
   "cell_type": "markdown",
   "metadata": {},
   "source": [
    "I believe it is not suppose to exist negative ratings. "
   ]
  },
  {
   "cell_type": "markdown",
   "metadata": {},
   "source": [
    "## 3)\tSelect the current top ranked companies (clue there should be 6 of them, we are only interested in the top ranked where the order equals 1)"
   ]
  },
  {
   "cell_type": "code",
   "execution_count": 13,
   "metadata": {},
   "outputs": [
    {
     "data": {
      "text/html": [
       "<div>\n",
       "<style scoped>\n",
       "    .dataframe tbody tr th:only-of-type {\n",
       "        vertical-align: middle;\n",
       "    }\n",
       "\n",
       "    .dataframe tbody tr th {\n",
       "        vertical-align: top;\n",
       "    }\n",
       "\n",
       "    .dataframe thead th {\n",
       "        text-align: right;\n",
       "    }\n",
       "</style>\n",
       "<table border=\"1\" class=\"dataframe\">\n",
       "  <thead>\n",
       "    <tr style=\"text-align: right;\">\n",
       "      <th></th>\n",
       "      <th>REG</th>\n",
       "      <th>RATING</th>\n",
       "      <th>DATE</th>\n",
       "      <th>ORDER</th>\n",
       "    </tr>\n",
       "  </thead>\n",
       "  <tbody>\n",
       "    <tr>\n",
       "      <th>263</th>\n",
       "      <td>2668478</td>\n",
       "      <td>96</td>\n",
       "      <td>27/09/2017</td>\n",
       "      <td>1</td>\n",
       "    </tr>\n",
       "    <tr>\n",
       "      <th>1464</th>\n",
       "      <td>NI067951</td>\n",
       "      <td>96</td>\n",
       "      <td>02/09/2014</td>\n",
       "      <td>1</td>\n",
       "    </tr>\n",
       "    <tr>\n",
       "      <th>1323</th>\n",
       "      <td>9026703</td>\n",
       "      <td>96</td>\n",
       "      <td>31/12/2017</td>\n",
       "      <td>1</td>\n",
       "    </tr>\n",
       "    <tr>\n",
       "      <th>1242</th>\n",
       "      <td>8451055</td>\n",
       "      <td>96</td>\n",
       "      <td>27/12/2017</td>\n",
       "      <td>1</td>\n",
       "    </tr>\n",
       "    <tr>\n",
       "      <th>473</th>\n",
       "      <td>4025368</td>\n",
       "      <td>96</td>\n",
       "      <td>17/05/2017</td>\n",
       "      <td>1</td>\n",
       "    </tr>\n",
       "    <tr>\n",
       "      <th>450</th>\n",
       "      <td>3976447</td>\n",
       "      <td>96</td>\n",
       "      <td>30/12/2017</td>\n",
       "      <td>1</td>\n",
       "    </tr>\n",
       "    <tr>\n",
       "      <th>1173</th>\n",
       "      <td>8128453</td>\n",
       "      <td>95</td>\n",
       "      <td>26/04/2018</td>\n",
       "      <td>1</td>\n",
       "    </tr>\n",
       "    <tr>\n",
       "      <th>1399</th>\n",
       "      <td>9929815</td>\n",
       "      <td>95</td>\n",
       "      <td>23/03/2018</td>\n",
       "      <td>1</td>\n",
       "    </tr>\n",
       "    <tr>\n",
       "      <th>1610</th>\n",
       "      <td>SC497589</td>\n",
       "      <td>95</td>\n",
       "      <td>11/12/2017</td>\n",
       "      <td>1</td>\n",
       "    </tr>\n",
       "    <tr>\n",
       "      <th>1551</th>\n",
       "      <td>SC244210</td>\n",
       "      <td>94</td>\n",
       "      <td>15/08/2017</td>\n",
       "      <td>1</td>\n",
       "    </tr>\n",
       "  </tbody>\n",
       "</table>\n",
       "</div>"
      ],
      "text/plain": [
       "           REG  RATING        DATE  ORDER\n",
       "263    2668478      96  27/09/2017      1\n",
       "1464  NI067951      96  02/09/2014      1\n",
       "1323   9026703      96  31/12/2017      1\n",
       "1242   8451055      96  27/12/2017      1\n",
       "473    4025368      96  17/05/2017      1\n",
       "450    3976447      96  30/12/2017      1\n",
       "1173   8128453      95  26/04/2018      1\n",
       "1399   9929815      95  23/03/2018      1\n",
       "1610  SC497589      95  11/12/2017      1\n",
       "1551  SC244210      94  15/08/2017      1"
      ]
     },
     "execution_count": 13,
     "metadata": {},
     "output_type": "execute_result"
    }
   ],
   "source": [
    "aux4 = aux3.sort_values(['RATING'], ascending=[0])\n",
    "aux4.head(10)\n"
   ]
  },
  {
   "cell_type": "code",
   "execution_count": 14,
   "metadata": {},
   "outputs": [
    {
     "data": {
      "text/html": [
       "<div>\n",
       "<style scoped>\n",
       "    .dataframe tbody tr th:only-of-type {\n",
       "        vertical-align: middle;\n",
       "    }\n",
       "\n",
       "    .dataframe tbody tr th {\n",
       "        vertical-align: top;\n",
       "    }\n",
       "\n",
       "    .dataframe thead th {\n",
       "        text-align: right;\n",
       "    }\n",
       "</style>\n",
       "<table border=\"1\" class=\"dataframe\">\n",
       "  <thead>\n",
       "    <tr style=\"text-align: right;\">\n",
       "      <th></th>\n",
       "      <th>REG</th>\n",
       "      <th>RATING</th>\n",
       "      <th>DATE</th>\n",
       "      <th>ORDER</th>\n",
       "    </tr>\n",
       "  </thead>\n",
       "  <tbody>\n",
       "    <tr>\n",
       "      <th>263</th>\n",
       "      <td>2668478</td>\n",
       "      <td>96</td>\n",
       "      <td>27/09/2017</td>\n",
       "      <td>1</td>\n",
       "    </tr>\n",
       "    <tr>\n",
       "      <th>1464</th>\n",
       "      <td>NI067951</td>\n",
       "      <td>96</td>\n",
       "      <td>02/09/2014</td>\n",
       "      <td>1</td>\n",
       "    </tr>\n",
       "    <tr>\n",
       "      <th>1323</th>\n",
       "      <td>9026703</td>\n",
       "      <td>96</td>\n",
       "      <td>31/12/2017</td>\n",
       "      <td>1</td>\n",
       "    </tr>\n",
       "    <tr>\n",
       "      <th>1242</th>\n",
       "      <td>8451055</td>\n",
       "      <td>96</td>\n",
       "      <td>27/12/2017</td>\n",
       "      <td>1</td>\n",
       "    </tr>\n",
       "    <tr>\n",
       "      <th>473</th>\n",
       "      <td>4025368</td>\n",
       "      <td>96</td>\n",
       "      <td>17/05/2017</td>\n",
       "      <td>1</td>\n",
       "    </tr>\n",
       "    <tr>\n",
       "      <th>450</th>\n",
       "      <td>3976447</td>\n",
       "      <td>96</td>\n",
       "      <td>30/12/2017</td>\n",
       "      <td>1</td>\n",
       "    </tr>\n",
       "  </tbody>\n",
       "</table>\n",
       "</div>"
      ],
      "text/plain": [
       "           REG  RATING        DATE  ORDER\n",
       "263    2668478      96  27/09/2017      1\n",
       "1464  NI067951      96  02/09/2014      1\n",
       "1323   9026703      96  31/12/2017      1\n",
       "1242   8451055      96  27/12/2017      1\n",
       "473    4025368      96  17/05/2017      1\n",
       "450    3976447      96  30/12/2017      1"
      ]
     },
     "execution_count": 14,
     "metadata": {},
     "output_type": "execute_result"
    }
   ],
   "source": [
    "aux4.loc[aux4['RATING'] == max(aux4['RATING'])]"
   ]
  },
  {
   "cell_type": "markdown",
   "metadata": {},
   "source": [
    "## 4)\tCreate a time series of each company so you can identify the trend of the companies credit rating over time."
   ]
  },
  {
   "cell_type": "code",
   "execution_count": 15,
   "metadata": {},
   "outputs": [
    {
     "data": {
      "text/html": [
       "<div>\n",
       "<style scoped>\n",
       "    .dataframe tbody tr th:only-of-type {\n",
       "        vertical-align: middle;\n",
       "    }\n",
       "\n",
       "    .dataframe tbody tr th {\n",
       "        vertical-align: top;\n",
       "    }\n",
       "\n",
       "    .dataframe thead th {\n",
       "        text-align: right;\n",
       "    }\n",
       "</style>\n",
       "<table border=\"1\" class=\"dataframe\">\n",
       "  <thead>\n",
       "    <tr style=\"text-align: right;\">\n",
       "      <th></th>\n",
       "      <th>REG</th>\n",
       "      <th>DATE</th>\n",
       "      <th>RATING</th>\n",
       "    </tr>\n",
       "  </thead>\n",
       "  <tbody>\n",
       "    <tr>\n",
       "      <th>0</th>\n",
       "      <td>729029</td>\n",
       "      <td>09/12/2017</td>\n",
       "      <td>89</td>\n",
       "    </tr>\n",
       "    <tr>\n",
       "      <th>1</th>\n",
       "      <td>729029</td>\n",
       "      <td>03/10/2017</td>\n",
       "      <td>90</td>\n",
       "    </tr>\n",
       "    <tr>\n",
       "      <th>2</th>\n",
       "      <td>729029</td>\n",
       "      <td>16/12/2016</td>\n",
       "      <td>87</td>\n",
       "    </tr>\n",
       "    <tr>\n",
       "      <th>3</th>\n",
       "      <td>729029</td>\n",
       "      <td>11/03/2016</td>\n",
       "      <td>87</td>\n",
       "    </tr>\n",
       "    <tr>\n",
       "      <th>4</th>\n",
       "      <td>729029</td>\n",
       "      <td>03/07/2015</td>\n",
       "      <td>73</td>\n",
       "    </tr>\n",
       "    <tr>\n",
       "      <th>5</th>\n",
       "      <td>729029</td>\n",
       "      <td>24/03/2015</td>\n",
       "      <td>71</td>\n",
       "    </tr>\n",
       "    <tr>\n",
       "      <th>6</th>\n",
       "      <td>729029</td>\n",
       "      <td>03/09/2014</td>\n",
       "      <td>56</td>\n",
       "    </tr>\n",
       "    <tr>\n",
       "      <th>7</th>\n",
       "      <td>729029</td>\n",
       "      <td>24/08/2014</td>\n",
       "      <td>49</td>\n",
       "    </tr>\n",
       "    <tr>\n",
       "      <th>8</th>\n",
       "      <td>729029</td>\n",
       "      <td>10/02/2014</td>\n",
       "      <td>78</td>\n",
       "    </tr>\n",
       "    <tr>\n",
       "      <th>9</th>\n",
       "      <td>729029</td>\n",
       "      <td>19/11/2013</td>\n",
       "      <td>67</td>\n",
       "    </tr>\n",
       "    <tr>\n",
       "      <th>10</th>\n",
       "      <td>729029</td>\n",
       "      <td>02/03/2013</td>\n",
       "      <td>68</td>\n",
       "    </tr>\n",
       "    <tr>\n",
       "      <th>11</th>\n",
       "      <td>729029</td>\n",
       "      <td>01/03/2013</td>\n",
       "      <td>79</td>\n",
       "    </tr>\n",
       "    <tr>\n",
       "      <th>12</th>\n",
       "      <td>729029</td>\n",
       "      <td>14/12/2011</td>\n",
       "      <td>78</td>\n",
       "    </tr>\n",
       "    <tr>\n",
       "      <th>13</th>\n",
       "      <td>729029</td>\n",
       "      <td>24/02/2011</td>\n",
       "      <td>67</td>\n",
       "    </tr>\n",
       "    <tr>\n",
       "      <th>14</th>\n",
       "      <td>729029</td>\n",
       "      <td>15/04/2010</td>\n",
       "      <td>78</td>\n",
       "    </tr>\n",
       "  </tbody>\n",
       "</table>\n",
       "</div>"
      ],
      "text/plain": [
       "       REG        DATE  RATING\n",
       "0   729029  09/12/2017      89\n",
       "1   729029  03/10/2017      90\n",
       "2   729029  16/12/2016      87\n",
       "3   729029  11/03/2016      87\n",
       "4   729029  03/07/2015      73\n",
       "5   729029  24/03/2015      71\n",
       "6   729029  03/09/2014      56\n",
       "7   729029  24/08/2014      49\n",
       "8   729029  10/02/2014      78\n",
       "9   729029  19/11/2013      67\n",
       "10  729029  02/03/2013      68\n",
       "11  729029  01/03/2013      79\n",
       "12  729029  14/12/2011      78\n",
       "13  729029  24/02/2011      67\n",
       "14  729029  15/04/2010      78"
      ]
     },
     "execution_count": 15,
     "metadata": {},
     "output_type": "execute_result"
    }
   ],
   "source": [
    "aux5 = df2[['REG','DATE', 'RATING']]\n",
    "\n",
    "aux5.head(15)\n",
    "#Plot on same graph the ts of each company, where each company has a colour \n",
    "#x axis is the Date column\n",
    "#y axis the Rating"
   ]
  },
  {
   "cell_type": "code",
   "execution_count": 16,
   "metadata": {},
   "outputs": [
    {
     "name": "stderr",
     "output_type": "stream",
     "text": [
      "/Users/tiagocabo/anaconda3/envs/Py36/lib/python3.6/site-packages/ipykernel_launcher.py:4: SettingWithCopyWarning: \n",
      "A value is trying to be set on a copy of a slice from a DataFrame.\n",
      "Try using .loc[row_indexer,col_indexer] = value instead\n",
      "\n",
      "See the caveats in the documentation: http://pandas.pydata.org/pandas-docs/stable/indexing.html#indexing-view-versus-copy\n",
      "  after removing the cwd from sys.path.\n"
     ]
    },
    {
     "data": {
      "text/plain": [
       "<matplotlib.axes._subplots.AxesSubplot at 0x1139ec7f0>"
      ]
     },
     "execution_count": 16,
     "metadata": {},
     "output_type": "execute_result"
    },
    {
     "data": {
      "image/png": "[encoded data removed]",
      "text/plain": [
       "<Figure size 432x288 with 1 Axes>"
      ]
     },
     "metadata": {},
     "output_type": "display_data"
    }
   ],
   "source": [
    "\n",
    "aux6 = aux5.loc[aux5['REG'] == '729029']\n",
    "\n",
    "aux6['DATE'] = pd.to_datetime(aux6['DATE'])\n",
    "aux6.set_index('DATE', inplace=True)\n",
    "aux6['RATING'].plot()"
   ]
  },
  {
   "cell_type": "code",
   "execution_count": 17,
   "metadata": {},
   "outputs": [],
   "source": [
    "Reglist = aux3['REG']\n",
    "output = False"
   ]
  },
  {
   "cell_type": "code",
   "execution_count": 18,
   "metadata": {},
   "outputs": [
    {
     "name": "stderr",
     "output_type": "stream",
     "text": [
      "/Users/tiagocabo/anaconda3/envs/Py36/lib/python3.6/site-packages/ipykernel_launcher.py:4: SettingWithCopyWarning: \n",
      "A value is trying to be set on a copy of a slice from a DataFrame.\n",
      "Try using .loc[row_indexer,col_indexer] = value instead\n",
      "\n",
      "See the caveats in the documentation: http://pandas.pydata.org/pandas-docs/stable/indexing.html#indexing-view-versus-copy\n",
      "  after removing the cwd from sys.path.\n"
     ]
    },
    {
     "data": {
      "image/png": "[encoded data removed]",
      "text/plain": [
       "<Figure size 432x288 with 1 Axes>"
      ]
     },
     "metadata": {},
     "output_type": "display_data"
    }
   ],
   "source": [
    "\n",
    "for i in Reglist:\n",
    "    aux6 = aux5.loc[aux5['REG'] == i]\n",
    "    aux6['DATE'] = pd.to_datetime(aux6['DATE'])\n",
    "    aux6.set_index('DATE', inplace=True)\n",
    "    aux6['RATING'].plot()"
   ]
  },
  {
   "cell_type": "code",
   "execution_count": null,
   "metadata": {},
   "outputs": [],
   "source": []
  },
  {
   "cell_type": "code",
   "execution_count": null,
   "metadata": {},
   "outputs": [],
   "source": []
  }
 ],
 "metadata": {
  "kernelspec": {
   "display_name": "Python 3",
   "language": "python",
   "name": "python3"
  },
  "language_info": {
   "codemirror_mode": {
    "name": "ipython",
    "version": 3
   },
   "file_extension": ".py",
   "mimetype": "text/x-python",
   "name": "python",
   "nbconvert_exporter": "python",
   "pygments_lexer": "ipython3",
   "version": "3.6.5"
  }
 },
 "nbformat": 4,
 "nbformat_minor": 2
}
